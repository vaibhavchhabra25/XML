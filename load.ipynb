{
 "cells": [
  {
   "cell_type": "code",
   "execution_count": 1,
   "metadata": {},
   "outputs": [],
   "source": [
    "import torch\n",
    "import torchvision\n",
    "import torchvision.transforms as transforms\n",
    "from model.resnet import ResNet18\n",
    "from model.resnext import CifarResNeXt\n",
    "from model.wrn import WideResNet\n",
    "import cv2\n",
    "import matplotlib.pyplot as plt\n",
    "import numpy as np\n",
    "from skimage.metrics import structural_similarity as ssim\n",
    "from torchsummary import summary\n",
    "from tqdm import tqdm"
   ]
  },
  {
   "cell_type": "markdown",
   "metadata": {},
   "source": [
    "#### Loading student and teacher models"
   ]
  },
  {
   "cell_type": "code",
   "execution_count": null,
   "metadata": {},
   "outputs": [],
   "source": [
    "resnet18 = ResNet18() # student model\n",
    "resnext = CifarResNeXt(cardinality=8, depth=29, num_classes=10)\n",
    "\n",
    "wrn = WideResNet(depth=28, num_classes=10, widen_factor=10, dropRate=0.3)\n",
    "\n",
    "resnet18.load_state_dict(torch.load('./experiments/resnet18_distill/resnext_teacher/best.pth.tar', map_location='cpu')['state_dict'])\n",
    "\n",
    "\n",
    "state_dict = torch.load('./experiments/base_wrn/best.pth.tar', map_location='cpu')['state_dict']\n",
    "from collections import OrderedDict\n",
    "new_state_dict = OrderedDict()\n",
    "for k, v in state_dict.items():\n",
    "    name = k[7:] # remove `module.`\n",
    "    new_state_dict[name] = v\n",
    "# load params\n",
    "wrn.load_state_dict(new_state_dict)\n",
    "\n",
    "\n",
    "state_dict = torch.load('./experiments/base_resnext29/best.pth.tar', map_location='cpu')['state_dict']\n",
    "from collections import OrderedDict\n",
    "new_state_dict = OrderedDict()\n",
    "for k, v in state_dict.items():\n",
    "    name = k[7:] # remove `module.`\n",
    "    new_state_dict[name] = v\n",
    "# load params\n",
    "resnext.load_state_dict(new_state_dict)"
   ]
  },
  {
   "cell_type": "code",
   "execution_count": 3,
   "metadata": {},
   "outputs": [
    {
     "name": "stdout",
     "output_type": "stream",
     "text": [
      "Files already downloaded and verified\n"
     ]
    }
   ],
   "source": [
    "train_transformer = transforms.Compose([\n",
    "            transforms.ToTensor(),\n",
    "            transforms.Normalize((0.4914, 0.4822, 0.4465), (0.247, 0.243, 0.261))\n",
    "        ])\n",
    "\n",
    "trainset = torchvision.datasets.CIFAR10(root='./data-cifar10', train=True, download=True, transform=train_transformer)\n",
    "trainloader = torch.utils.data.DataLoader(trainset, batch_size=1000, shuffle=True)"
   ]
  },
  {
   "cell_type": "code",
   "execution_count": 4,
   "metadata": {},
   "outputs": [
    {
     "name": "stderr",
     "output_type": "stream",
     "text": [
      "Clipping input data to the valid range for imshow with RGB data ([0..1] for floats or [0..255] for integers).\n",
      "Clipping input data to the valid range for imshow with RGB data ([0..1] for floats or [0..255] for integers).\n",
      "Clipping input data to the valid range for imshow with RGB data ([0..1] for floats or [0..255] for integers).\n",
      "Clipping input data to the valid range for imshow with RGB data ([0..1] for floats or [0..255] for integers).\n",
      "Clipping input data to the valid range for imshow with RGB data ([0..1] for floats or [0..255] for integers).\n"
     ]
    },
    {
     "data": {
      "image/png": "[encoded data removed]",
      "text/plain": [
       "<Figure size 1000x1000 with 5 Axes>"
      ]
     },
     "metadata": {},
     "output_type": "display_data"
    }
   ],
   "source": [
    "sample_train_batch, smaple_labels_batch = next(iter(trainloader))\n",
    "fig, ax = plt.subplots(1, 5, figsize=(10, 10))\n",
    "for i in range(5):\n",
    "    ax[i].imshow(sample_train_batch[i].numpy().transpose(1, 2, 0))\n",
    "    ax[i].set_title(smaple_labels_batch[i].item())\n",
    "    ax[i].axis('off')"
   ]
  },
  {
   "cell_type": "code",
   "execution_count": 5,
   "metadata": {},
   "outputs": [],
   "source": [
    "# for name, param in wrn.named_parameters():\n",
    "#     print(name, param.shape)\n",
    "\n",
    "# import torchvision.models as models\n",
    "# model = models.resnet50(pretrained=True)\n",
    "# # print(model.layer4)\n",
    "\n",
    "# for name, param in model.named_parameters():\n",
    "#     print(name, param.shape)"
   ]
  },
  {
   "cell_type": "markdown",
   "metadata": {},
   "source": [
    "#### Registering the forward hooks"
   ]
  },
  {
   "cell_type": "code",
   "execution_count": 6,
   "metadata": {},
   "outputs": [
    {
     "data": {
      "text/plain": [
       "<torch.utils.hooks.RemovableHandle at 0x2a53a3890>"
      ]
     },
     "execution_count": 6,
     "metadata": {},
     "output_type": "execute_result"
    }
   ],
   "source": [
    "# register forward hook before the average pooling layer\n",
    "activation = {}\n",
    "def get_activation(name):\n",
    "    def hook(model, input, output):\n",
    "        activation[name] = output.detach()\n",
    "    return hook\n",
    "\n",
    "# adding forward hook to the penultimate relu layer to the student and teacher model\n",
    "resnet18.layer4[1].shortcut.register_forward_hook(get_activation('shortcut'))\n",
    "wrn.relu.register_forward_hook(get_activation('relu'))"
   ]
  },
  {
   "cell_type": "markdown",
   "metadata": {},
   "source": [
    "#### Utility functions"
   ]
  },
  {
   "cell_type": "code",
   "execution_count": 7,
   "metadata": {},
   "outputs": [],
   "source": [
    "# these are the weights we will use for class activation mapping\n",
    "def get_fc_params(model, name):\n",
    "    fc_params = torch.tensor([])\n",
    "    for n, param in model.named_parameters():\n",
    "        if n == name:\n",
    "            fc_params = param\n",
    "            print(n, param.shape)\n",
    "    return fc_params"
   ]
  },
  {
   "cell_type": "code",
   "execution_count": 8,
   "metadata": {},
   "outputs": [],
   "source": [
    "def get_weighted_CAM(forward_hooked_model, input, weights, student = True, rescale=True):\n",
    "    if student:\n",
    "        key = 'shortcut'\n",
    "        layer_size = 512\n",
    "        resize_val = 4\n",
    "    else:\n",
    "        key = 'relu'\n",
    "        layer_size = 640\n",
    "        resize_val = 8\n",
    "    predictions = forward_hooked_model(input) # torch.unsqueeze(train_batch[index], 0)\n",
    "    activation[key] = activation[key][0]\n",
    "    activation[key] = activation[key].permute(1, 2, 0)\n",
    "    activation[key] = activation[key].reshape(-1, layer_size)\n",
    "\n",
    "    activation_map = torch.matmul(activation[key], weights)\n",
    "    activation_map = activation_map.reshape(resize_val, resize_val)\n",
    "    \n",
    "    if rescale:\n",
    "        activation_map = activation_map - torch.min(activation_map)\n",
    "        activation_map = activation_map / (torch.max(activation_map) - torch.min(activation_map))\n",
    "        # activation_map = activation_map * 255\n",
    "\n",
    "    return activation_map, predictions"
   ]
  },
  {
   "cell_type": "markdown",
   "metadata": {},
   "source": [
    "#### Teacher model"
   ]
  },
  {
   "cell_type": "code",
   "execution_count": 9,
   "metadata": {},
   "outputs": [
    {
     "name": "stdout",
     "output_type": "stream",
     "text": [
      "fc.weight torch.Size([10, 640])\n"
     ]
    }
   ],
   "source": [
    "fc_params_teacher = get_fc_params(wrn, 'fc.weight')"
   ]
  },
  {
   "cell_type": "code",
   "execution_count": 10,
   "metadata": {},
   "outputs": [
    {
     "name": "stdout",
     "output_type": "stream",
     "text": [
      "torch.Size([1000, 3, 32, 32]) torch.Size([1000])\n"
     ]
    },
    {
     "name": "stderr",
     "output_type": "stream",
     "text": [
      "100%|██████████| 1000/1000 [01:36<00:00, 10.38it/s]\n"
     ]
    }
   ],
   "source": [
    "train_iter = iter(trainloader)\n",
    "_batch = next(train_iter)\n",
    "current_input_batch = _batch[0]\n",
    "current_label_batch = _batch[1]\n",
    "print(current_input_batch.shape, current_label_batch.shape)\n",
    "\n",
    "train_transformer_2 = transforms.Compose([\n",
    "    transforms.Normalize((0.4914, 0.4822, 0.4465), (0.247, 0.243, 0.261))\n",
    "])\n",
    "\n",
    "complexity_values_teacher = []\n",
    "drop_values_teacher = []\n",
    "ssim_score_teacher = []\n",
    "adcc_score_teacher = []\n",
    "\n",
    "for i in tqdm(range(current_input_batch.shape[0])):\n",
    "    activation_map, predictions = get_weighted_CAM(wrn, torch.unsqueeze(current_input_batch[i], 0), fc_params_teacher[current_label_batch[i]], student=False)\n",
    "    activation_map = activation_map.detach().numpy() # CAMc(x)\n",
    "\n",
    "    complexity_values_teacher.append(np.linalg.norm(activation_map, ord=1))\n",
    "\n",
    "    activation_map = cv2.resize(activation_map, (32, 32)) # 32 x 32\n",
    "\n",
    "    original_image = current_input_batch[i].numpy()\n",
    "    original_image = original_image - np.min(original_image)\n",
    "    original_image = original_image / np.max(original_image)\n",
    "    original_image = original_image * 255\n",
    "    original_image = original_image.astype(np.uint8)\n",
    "\n",
    "    occluded_image = original_image * np.stack((activation_map, activation_map, activation_map)) # 3 X 32 x 32\n",
    "    occluded_image -= np.min(occluded_image)\n",
    "    occluded_image /= np.max(occluded_image)\n",
    "    occluded_image = occluded_image.astype(float) # 3 x 32 x 32\n",
    "\n",
    "    occluded_image = torch.tensor(occluded_image).float()\n",
    "    occluded_image = train_transformer_2(occluded_image)\n",
    "    \n",
    "    occluded_activations, occluded_predictions = get_weighted_CAM(wrn, torch.unsqueeze(occluded_image, 0), fc_params_teacher[current_label_batch[i]], student=False)\n",
    "    occluded_activations = occluded_activations.detach().numpy()\n",
    "    occluded_activations = cv2.resize(occluded_activations, (32, 32)) # 32 x 32\n",
    "    # occluded_predictions = wrn(torch.unsqueeze(occluded_image, 0))\n",
    "\n",
    "    prediction_label_from_original_image = torch.argmax(predictions, dim=1).item()\n",
    "    prediction_label_from_occluded_image = torch.argmax(occluded_predictions, dim=1).item()\n",
    "\n",
    "    prob_pred_from_original_image = torch.max(predictions, dim=1).values.item()\n",
    "    prob_pred_from_occluded_image = torch.max(occluded_predictions, dim=1).values.item()\n",
    "    fraction_drop = (prob_pred_from_original_image - prob_pred_from_occluded_image) / prob_pred_from_original_image\n",
    "\n",
    "    drop_values_teacher.append(max(0, fraction_drop))\n",
    "    ssim_score_teacher.append(ssim(activation_map, occluded_activations, data_range=occluded_activations.max() - occluded_activations.min()))\n",
    "\n",
    "    adcc_score = 3 / (1/ssim_score_teacher[-1] + 1/(1 - complexity_values_teacher[-1]) + 1/(1 - drop_values_teacher[-1]))\n",
    "    adcc_score_teacher.append(adcc_score)"
   ]
  },
  {
   "cell_type": "code",
   "execution_count": 19,
   "metadata": {},
   "outputs": [
    {
     "name": "stdout",
     "output_type": "stream",
     "text": [
      "For teacher model, Mean complexity values:  5.655658\n",
      "For teacher model, Mean drop values:  0.12278772875384615\n",
      "For teacher model, Mean SSIM values:  0.5767710451610357\n",
      "For teacher model, Mean Final ADCC values:  1.0776004227220892\n"
     ]
    }
   ],
   "source": [
    "print(\"For teacher model, Mean complexity values: \", np.mean(complexity_values_teacher))\n",
    "print(\"For teacher model, Mean drop values: \", np.mean(drop_values_teacher))\n",
    "print(\"For teacher model, Mean SSIM values: \", np.mean(ssim_score_teacher))\n",
    "print(\"For teacher model, Mean Final ADCC values: \", np.mean(adcc_score_teacher))"
   ]
  },
  {
   "cell_type": "markdown",
   "metadata": {},
   "source": [
    "#### Student Model"
   ]
  },
  {
   "cell_type": "code",
   "execution_count": 13,
   "metadata": {},
   "outputs": [
    {
     "name": "stdout",
     "output_type": "stream",
     "text": [
      "linear.weight torch.Size([10, 512])\n"
     ]
    }
   ],
   "source": [
    "fc_params_student = get_fc_params(resnet18, 'linear.weight')"
   ]
  },
  {
   "cell_type": "code",
   "execution_count": 16,
   "metadata": {},
   "outputs": [
    {
     "name": "stderr",
     "output_type": "stream",
     "text": [
      "100%|██████████| 1000/1000 [00:24<00:00, 40.21it/s]\n"
     ]
    }
   ],
   "source": [
    "complexity_values_student = []\n",
    "drop_values_student = []\n",
    "ssim_score_students = []\n",
    "adcc_score_student = []\n",
    "\n",
    "for i in tqdm(range(current_input_batch.shape[0])):\n",
    "    activation_map, predictions = get_weighted_CAM(resnet18, torch.unsqueeze(current_input_batch[i], 0), fc_params_student[current_label_batch[i]], student=True)\n",
    "    activation_map = activation_map.detach().numpy() # CAMc(x)\n",
    "\n",
    "    complexity_values_student.append(np.linalg.norm(activation_map, ord=1))\n",
    "\n",
    "    activation_map = cv2.resize(activation_map, (32, 32)) # 32 x 32\n",
    "\n",
    "    original_image = current_input_batch[i].numpy()\n",
    "    original_image = original_image - np.min(original_image)\n",
    "    original_image = original_image / np.max(original_image)\n",
    "    original_image = original_image * 255\n",
    "    original_image = original_image.astype(np.uint8)\n",
    "\n",
    "    occluded_image = original_image * np.stack((activation_map, activation_map, activation_map)) # 3 X 32 x 32\n",
    "    occluded_image -= np.min(occluded_image)\n",
    "    occluded_image /= np.max(occluded_image)\n",
    "    occluded_image = occluded_image.astype(float) # 3 x 32 x 32\n",
    "\n",
    "    occluded_image = torch.tensor(occluded_image).float()\n",
    "    occluded_image = train_transformer_2(occluded_image)\n",
    "\n",
    "    occluded_activations, occluded_predictions = get_weighted_CAM(resnet18, torch.unsqueeze(occluded_image, 0), fc_params_student[current_label_batch[i]], student=True)\n",
    "    occluded_activations = occluded_activations.detach().numpy()\n",
    "    occluded_activations = cv2.resize(occluded_activations, (32, 32)) # 32 x 32\n",
    "    # occluded_predictions = resnet18(torch.unsqueeze(occluded_image, 0))\n",
    "\n",
    "    prediction_label_from_original_image = torch.argmax(predictions, dim=1).item()\n",
    "    prediction_label_from_occluded_image = torch.argmax(occluded_predictions, dim=1).item()\n",
    "\n",
    "    prob_pred_from_original_image = torch.max(predictions, dim=1).values.item()\n",
    "    prob_pred_from_occluded_image = torch.max(occluded_predictions, dim=1).values.item()\n",
    "    fraction_drop = (prob_pred_from_original_image - prob_pred_from_occluded_image) / prob_pred_from_original_image\n",
    "\n",
    "    drop_values_student.append(max(0, fraction_drop))\n",
    "    ssim_score_students.append(ssim(activation_map, occluded_activations, data_range=occluded_activations.max() - occluded_activations.min()))\n",
    "\n",
    "    adcc_score = 3 / (1/ssim_score_students[-1] + 1/(1 - complexity_values_student[-1]) + 1/(1 - drop_values_student[-1]))\n",
    "    adcc_score_student.append(adcc_score)"
   ]
  },
  {
   "cell_type": "code",
   "execution_count": 20,
   "metadata": {},
   "outputs": [
    {
     "name": "stdout",
     "output_type": "stream",
     "text": [
      "For student model, Mean complexity values:  2.7335796\n",
      "For student model, Mean drop values:  0.08477124724789933\n",
      "For student model, Mean SSIM values:  0.6687124108280107\n",
      "For student model, Mean Final ADCC values:  1.482402559243952\n"
     ]
    }
   ],
   "source": [
    "print(\"For student model, Mean complexity values: \", np.mean(complexity_values_student))\n",
    "print(\"For student model, Mean drop values: \", np.mean(drop_values_student))\n",
    "print(\"For student model, Mean SSIM values: \", np.mean(ssim_score_students))\n",
    "print(\"For student model, Mean Final ADCC values: \", np.mean(adcc_score_student))"
   ]
  },
  {
   "cell_type": "markdown",
   "metadata": {},
   "source": [
    "#### Visualising"
   ]
  },
  {
   "cell_type": "code",
   "execution_count": 21,
   "metadata": {},
   "outputs": [],
   "source": [
    "# fig, axes = plt.subplots(2, 5, figsize=(20, 10))\n",
    "\n",
    "# for i in range(5):\n",
    "#     activation_map, _ = get_weighted_CAM(wrn, torch.unsqueeze(sample_train_batch[i], 0), fc_params_teacher[smaple_labels_batch[i]], student=False)\n",
    "#     print(activation_map.shape)\n",
    "#     activation_map = activation_map.detach().numpy().astype(np.uint8)\n",
    "#     activation_map *= 255\n",
    "    \n",
    "#     activation_map = cv2.resize(activation_map, (224, 224))\n",
    "#     activation_map = cv2.applyColorMap(activation_map, cv2.COLORMAP_JET)\n",
    "#     activation_map = cv2.cvtColor(activation_map, cv2.COLOR_BGR2RGB)\n",
    "    \n",
    "#     original_image = sample_train_batch[i].numpy().transpose(1, 2, 0)\n",
    "#     original_image = original_image - np.min(original_image)\n",
    "#     original_image = original_image / np.max(original_image)\n",
    "#     original_image = original_image * 255\n",
    "#     original_image = original_image.astype(np.uint8)\n",
    "#     original_image = cv2.resize(original_image, (224, 224))\n",
    "\n",
    "#     activation_map = cv2.addWeighted(original_image, 0.5, activation_map, 0.5, 0)\n",
    "\n",
    "#     axes[0][i].imshow(original_image)\n",
    "#     axes[0][i].axis('off')\n",
    "#     axes[1][i].imshow(activation_map)\n",
    "#     axes[1][i].axis('off')"
   ]
  },
  {
   "cell_type": "code",
   "execution_count": null,
   "metadata": {},
   "outputs": [],
   "source": [
    "# fig, axes = plt.subplots(2, 5, figsize=(20, 10))\n",
    "\n",
    "# for i in range(5):  \n",
    "#     activation_map, _ = get_weighted_CAM(resnet18, torch.unsqueeze(sample_train_batch[i], 0), fc_params_student[smaple_labels_batch[i]], student=True)\n",
    "\n",
    "#     activation_map = activation_map.detach().numpy().astype(np.uint8)\n",
    "\n",
    "#     activation_map = cv2.resize(activation_map, (224, 224)) # 224 x 224\n",
    "#     activation_map = cv2.applyColorMap(activation_map, cv2.COLORMAP_JET)\n",
    "#     activation_map = cv2.cvtColor(activation_map, cv2.COLOR_BGR2RGB)\n",
    "#     original_image = sample_train_batch[i].numpy().transpose(1, 2, 0)\n",
    "#     original_image = original_image - np.min(original_image)\n",
    "#     original_image = original_image / np.max(original_image)\n",
    "#     original_image = original_image * 255\n",
    "#     original_image = original_image.astype(np.uint8)\n",
    "\n",
    "#     original_image = cv2.resize(original_image, (224, 224))\n",
    "\n",
    "#     activation_map = cv2.addWeighted(original_image, 0.5, activation_map, 0.5, 0)\n",
    "\n",
    "#     axes[0][i].imshow(original_image)\n",
    "#     axes[0][i].axis('off')\n",
    "#     axes[1][i].imshow(activation_map)\n",
    "#     axes[1][i].axis('off')"
   ]
  },
  {
   "cell_type": "code",
   "execution_count": null,
   "metadata": {},
   "outputs": [],
   "source": [
    "# fig, axes = plt.subplots(2, 5, figsize=(20, 10))\n",
    "# activation_maps_teacher = []\n",
    "# threshold = 0.6\n",
    "# occluded_images = []\n",
    "\n",
    "# for i in range(5):\n",
    "#     activation_map, _ = get_weighted_CAM(wrn, torch.unsqueeze(sample_train_batch[i], 0), fc_params_teacher[smaple_labels_batch[i]], student=False)\n",
    "#     activation_map = activation_map.detach().numpy().astype(np.uint8)\n",
    "#     activation_map = cv2.resize(activation_map, (32, 32))\n",
    "\n",
    "#     original_image = sample_train_batch[i].numpy().transpose(1, 2, 0)\n",
    "#     original_image = original_image - np.min(original_image)\n",
    "#     original_image = original_image / np.max(original_image)\n",
    "\n",
    "#     occluded_image = original_image * np.stack((activation_map, activation_map, activation_map)).transpose(1, 2, 0)\n",
    "\n",
    "#     original_image = original_image * 255\n",
    "#     original_image = original_image.astype(np.uint8)\n",
    "\n",
    "#     # activation_map = np.ones((32, 32))\n",
    "#     # occluded_image = original_image * np.stack((activation_map, activation_map, activation_map)).transpose(1, 2, 0)\n",
    "#     occluded_image -= np.min(occluded_image)\n",
    "#     occluded_image /= np.max(occluded_image)\n",
    "#     occluded_image *= 255\n",
    "#     occluded_image = occluded_image.astype(np.uint8)\n",
    "\n",
    "\n",
    "#     axes[0][i].imshow(original_image)\n",
    "#     axes[0][i].axis('off')\n",
    "#     axes[1][i].imshow(occluded_image)\n",
    "#     axes[1][i].axis('off')\n",
    "\n",
    "#     occluded_image = occluded_image.astype(float)\n",
    "#     occluded_image -= np.min(occluded_image)\n",
    "#     occluded_image /= np.max(occluded_image)\n",
    "#     occluded_images.append(occluded_image.transpose(2, 0, 1))\n",
    "\n",
    "# occluded_images = torch.tensor(occluded_images).float()"
   ]
  },
  {
   "cell_type": "markdown",
   "metadata": {},
   "source": [
    "##### Ignore"
   ]
  },
  {
   "cell_type": "code",
   "execution_count": null,
   "metadata": {},
   "outputs": [],
   "source": [
    "# summary(resnet18, (3, 32, 32))\n",
    "# summary(wrn, (3, 32, 32))\n",
    "# summary(resnext, (3, 32, 32))"
   ]
  },
  {
   "cell_type": "code",
   "execution_count": null,
   "metadata": {},
   "outputs": [],
   "source": [
    "# print(occluded_images.shape, occluded_image.dtype)\n",
    "\n",
    "# # samp = occluded_images[0]\n",
    "# # plt.imshow(samp.numpy().transpose(1, 2, 0).astype(np.uint8))\n",
    "\n",
    "# # print(occluded_images[0].shape)\n",
    "# # plt.imshow(occluded_images[0].numpy().transpose(1, 2, 0).astype(np.uint8))\n",
    "# train_transformer_2 = transforms.Compose([\n",
    "#     transforms.Normalize((0.4914, 0.4822, 0.4465), (0.247, 0.243, 0.261))\n",
    "# ])\n",
    "# occluded_images = train_transformer_2(occluded_images)\n",
    "# # temp = train_transformer_2(occluded_images[0])\n",
    "# # print(temp.shape)\n",
    "\n",
    "# wrn.eval()\n",
    "# true_prediction_probability = wrn(sample_train_batch[:5])\n",
    "# occluded_prediction_probability = wrn(occluded_images)\n",
    "# # occluded_prediction_probability = wrn(temp.unsqueeze(0))\n",
    "# print(torch.argmax(occluded_prediction_probability, dim=1), smaple_labels_batch[:5], torch.argmax(true_prediction_probability, dim=1))"
   ]
  },
  {
   "cell_type": "code",
   "execution_count": null,
   "metadata": {},
   "outputs": [],
   "source": []
  }
 ],
 "metadata": {
  "kernelspec": {
   "display_name": "AI3000_venv",
   "language": "python",
   "name": "python3"
  },
  "language_info": {
   "codemirror_mode": {
    "name": "ipython",
    "version": 3
   },
   "file_extension": ".py",
   "mimetype": "text/x-python",
   "name": "python",
   "nbconvert_exporter": "python",
   "pygments_lexer": "ipython3",
   "version": "3.11.5"
  }
 },
 "nbformat": 4,
 "nbformat_minor": 2
}
